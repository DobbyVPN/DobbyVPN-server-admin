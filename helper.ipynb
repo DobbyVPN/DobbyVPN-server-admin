{
 "cells": [
  {
   "cell_type": "code",
   "id": "initial_id",
   "metadata": {
    "collapsed": true,
    "ExecuteTime": {
     "end_time": "2024-12-08T18:11:38.822357Z",
     "start_time": "2024-12-08T18:11:38.408660Z"
    }
   },
   "source": [
    "from dotenv import load_dotenv\n",
    "import os\n",
    "from vpn_interface.outline_manager import OutlineVPN\n",
    "load_dotenv(dotenv_path=\".env\")\n",
    "cert_sha256 = os.getenv(\"OUTLINE_CERT_SHA256\")\n",
    "api_url = os.getenv(\"OUTLINE_API_URL\")\n",
    "client = OutlineVPN(api_url=api_url, cert_sha256=cert_sha256)\n",
    "print(api_url, cert_sha256)\n",
    "def get_keys():\n",
    "    return client.get_keys()\n",
    "\n",
    "vpn_keys = get_keys()\n",
    "for key in vpn_keys:\n",
    "    print(key)"
   ],
   "outputs": [
    {
     "name": "stderr",
     "output_type": "stream",
     "text": [
      "/Users/tsagoll/PycharmProjects/VPN_Assistant/.venv/lib/python3.9/site-packages/urllib3/__init__.py:35: NotOpenSSLWarning: urllib3 v2 only supports OpenSSL 1.1.1+, currently the 'ssl' module is compiled with 'LibreSSL 2.8.3'. See: https://github.com/urllib3/urllib3/issues/3020\n",
      "  warnings.warn(\n"
     ]
    },
    {
     "name": "stdout",
     "output_type": "stream",
     "text": [
      "https://195.201.111.36:43180/KlvPGo_8P1ZDCmGmrHxxgg DA276C3627E3899F741634E689CE975C917C864834515313DCD77D65A54D4B5F\n",
      "OutlineKey(key_id='0', name='artem_test', password='ZUefO11zqs7JPlPA1N1Xya', port=40287, method='chacha20-ietf-poly1305', access_url='ss://Y2hhY2hhMjAtaWV0Zi1wb2x5MTMwNTpaVWVmTzExenFzN0pQbFBBMU4xWHlh@195.201.111.36:40287/?outline=1', used_bytes=36068095801, data_limit=None)\n",
      "OutlineKey(key_id='3', name='igor_windows', password='zfx673rY3N4gCRQ45JT16c', port=40287, method='chacha20-ietf-poly1305', access_url='ss://Y2hhY2hhMjAtaWV0Zi1wb2x5MTMwNTp6Zng2NzNyWTNONGdDUlE0NUpUMTZj@195.201.111.36:40287/?outline=1', used_bytes=26227219, data_limit=None)\n",
      "OutlineKey(key_id='4', name='tsagoll_ios', password='eOLqzLLfNV4e1mONR5VAxv', port=40287, method='chacha20-ietf-poly1305', access_url='ss://Y2hhY2hhMjAtaWV0Zi1wb2x5MTMwNTplT0xxekxMZk5WNGUxbU9OUjVWQXh2@195.201.111.36:40287/?outline=1', used_bytes=None, data_limit=None)\n",
      "OutlineKey(key_id='5', name='tsagoll_macos', password='GynCRkw8XewOB6Jgx4cZ0l', port=40287, method='chacha20-ietf-poly1305', access_url='ss://Y2hhY2hhMjAtaWV0Zi1wb2x5MTMwNTpHeW5DUmt3OFhld09CNkpneDRjWjBs@195.201.111.36:40287/?outline=1', used_bytes=66723486, data_limit=None)\n",
      "OutlineKey(key_id='6', name='tsagoll_windows', password='vWm1Qqoqpa1MYUswhlMOUH', port=40287, method='chacha20-ietf-poly1305', access_url='ss://Y2hhY2hhMjAtaWV0Zi1wb2x5MTMwNTp2V20xUXFvcXBhMU1ZVXN3aGxNT1VI@195.201.111.36:40287/?outline=1', used_bytes=None, data_limit=None)\n",
      "OutlineKey(key_id='7', name='budimir_test', password='SQNw4WXspYftmhKyuOYpAM', port=40287, method='chacha20-ietf-poly1305', access_url='ss://Y2hhY2hhMjAtaWV0Zi1wb2x5MTMwNTpTUU53NFdYc3BZZnRtaEt5dU9ZcEFN@195.201.111.36:40287/?outline=1', used_bytes=22676221630, data_limit=None)\n",
      "OutlineKey(key_id='8', name='vladislav_key', password='gVq3nfW5AuMLkzW5yVltZM', port=40287, method='chacha20-ietf-poly1305', access_url='ss://Y2hhY2hhMjAtaWV0Zi1wb2x5MTMwNTpnVnEzbmZXNUF1TUxrelc1eVZsdFpN@195.201.111.36:40287/?outline=1', used_bytes=320180, data_limit=None)\n",
      "OutlineKey(key_id='9', name='TestDevice', password='FJwLltCM6uyPLPkGSXmG4b', port=40287, method='chacha20-ietf-poly1305', access_url='ss://Y2hhY2hhMjAtaWV0Zi1wb2x5MTMwNTpGSndMbHRDTTZ1eVBMUGtHU1htRzRi@195.201.111.36:40287/?outline=1', used_bytes=None, data_limit=None)\n",
      "OutlineKey(key_id='10', name='TestDevice', password='nk7EGzg0vCMFpfpJdFt6zj', port=40287, method='chacha20-ietf-poly1305', access_url='ss://Y2hhY2hhMjAtaWV0Zi1wb2x5MTMwNTpuazdFR3pnMHZDTUZwZnBKZEZ0Nnpq@195.201.111.36:40287/?outline=1', used_bytes=None, data_limit=None)\n"
     ]
    }
   ],
   "execution_count": 1
  },
  {
   "metadata": {},
   "cell_type": "code",
   "outputs": [],
   "execution_count": null,
   "source": "",
   "id": "17bff3883dddde74"
  }
 ],
 "metadata": {
  "kernelspec": {
   "display_name": "Python 3",
   "language": "python",
   "name": "python3"
  },
  "language_info": {
   "codemirror_mode": {
    "name": "ipython",
    "version": 2
   },
   "file_extension": ".py",
   "mimetype": "text/x-python",
   "name": "python",
   "nbconvert_exporter": "python",
   "pygments_lexer": "ipython2",
   "version": "2.7.6"
  }
 },
 "nbformat": 4,
 "nbformat_minor": 5
}
